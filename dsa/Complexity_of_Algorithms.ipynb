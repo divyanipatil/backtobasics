{
 "cells": [
  {
   "cell_type": "markdown",
   "metadata": {},
   "source": [
    "## Understanding Time Complexity with examples and the examples are increasing order of higher time complexity from constant to factorial time complexity.\n",
    "[Source of this code and text](https://towardsdatascience.com/understanding-time-complexity-with-python-examples-2bda6e8158a7)"
   ]
  },
  {
   "cell_type": "code",
   "execution_count": 2,
   "metadata": {
    "collapsed": true
   },
   "outputs": [],
   "source": [
    "def get_big_input(input_size):\n",
    "    for i in range(input_size):\n",
    "        yield i"
   ]
  },
  {
   "cell_type": "code",
   "execution_count": 9,
   "metadata": {
    "collapsed": true
   },
   "outputs": [],
   "source": [
    "input_size = 1000"
   ]
  },
  {
   "cell_type": "markdown",
   "metadata": {},
   "source": [
    "### Constant Time — O(1) \n",
    "An algorithm is said to have a constant time when it is not dependent on the input data (n). No matter the size of the input data, the running time will always be the same.\n",
    "Now, let’s take a look at the function constant_time_fn which returns the first element of a list"
   ]
  },
  {
   "cell_type": "code",
   "execution_count": 6,
   "metadata": {},
   "outputs": [
    {
     "name": "stdout",
     "output_type": "stream",
     "text": [
      "698 ns ± 12.4 ns per loop (mean ± std. dev. of 7 runs, 1000000 loops each)\n"
     ]
    }
   ],
   "source": [
    "def constant_time_fn(input_size):\n",
    "    # get first element of collection\n",
    "    return next(get_big_input(input_size))\n",
    "\n",
    "%timeit constant_time_fn(input_size)"
   ]
  },
  {
   "cell_type": "markdown",
   "metadata": {},
   "source": [
    "### Logarithmic Time — O(log n)\n",
    "An algorithm is said to have a logarithmic time complexity when it reduces the size of the input data in each step (it don’t need to look at all values of the input data)\n",
    "Algorithms with logarithmic time complexity are commonly found in operations on binary trees or when using binary search. Let’s take a look at the example of a binary search, where we need to find the position of an element in a sorted list\n",
    "\n",
    "#### Binary Search \n",
    "1) Steps of the binary search: <br/>\n",
    "2) Calculate the middle of the list. <br/>\n",
    "3) If the searched value is lower than the value in the middle of the list, set a new right bounder. <br/>\n",
    "4) If the searched value is higher than the value in the middle of the list, set a new left bounder. <br/>\n",
    "5) If the search value is equal to the value in the middle of the list, return the middle (the index). <br/>\n",
    "6) Repeat the steps above until the value is found or the left bounder is equal or higher the right bounder. <br/>"
   ]
  },
  {
   "cell_type": "code",
   "execution_count": 11,
   "metadata": {},
   "outputs": [
    {
     "name": "stdout",
     "output_type": "stream",
     "text": [
      "59.2 µs ± 1.39 µs per loop (mean ± std. dev. of 7 runs, 10000 loops each)\n"
     ]
    }
   ],
   "source": [
    "import random\n",
    "def binary_search(data, value):\n",
    "    #print(\"searching \", value)\n",
    "    n = len(data)\n",
    "    left = 0\n",
    "    right = n - 1\n",
    "    while left <= right:\n",
    "        middle = int((left + right) / 2)\n",
    "        if value < data[middle]:\n",
    "            right = middle - 1\n",
    "        elif value > data[middle]:\n",
    "            left = middle + 1\n",
    "        else:\n",
    "            return middle\n",
    "        \n",
    "    raise ValueError('Value is not in the list')\n",
    "%timeit binary_search(list(get_big_input(input_size)), 999)"
   ]
  },
  {
   "cell_type": "markdown",
   "metadata": {},
   "source": [
    "### Linear Time — O(n)\n",
    "An algorithm is said to have a linear time complexity when the running time increases at most linearly with the size of the input data. This is the best possible time complexity when the algorithm must examine all values in the input data\n",
    "Let’s take a look at the example of a linear search, where we need to find the position of an element in an unsorted list"
   ]
  },
  {
   "cell_type": "code",
   "execution_count": 12,
   "metadata": {},
   "outputs": [
    {
     "name": "stdout",
     "output_type": "stream",
     "text": [
      "121 µs ± 4.49 µs per loop (mean ± std. dev. of 7 runs, 10000 loops each)\n"
     ]
    }
   ],
   "source": [
    "def linear_search(data, value):\n",
    "    for index in range(len(data)):\n",
    "        if value == data[index]:\n",
    "            return index\n",
    "    raise ValueError('Value not found in the list')\n",
    "%timeit linear_search(list(get_big_input(input_size)), 999)"
   ]
  },
  {
   "cell_type": "markdown",
   "metadata": {},
   "source": [
    "### Quasilinear Time — O(n log n)\n",
    "An algorithm is said to have a quasilinear time complexity when each operation in the input data have a logarithm time complexity. It is commonly seen in sorting algorithms (e.g. mergesort, timsort, heapsort).\n",
    "For example: for each value in the data1 (O(n)) use the binary search (O(log n)) to search the same value in data2."
   ]
  },
  {
   "cell_type": "code",
   "execution_count": 136,
   "metadata": {},
   "outputs": [
    {
     "name": "stdout",
     "output_type": "stream",
     "text": [
      "13 µs ± 879 ns per loop (mean ± std. dev. of 7 runs, 100000 loops each)\n"
     ]
    }
   ],
   "source": [
    "# simple example \n",
    "data1 = list(get_big_input(input_size))\n",
    "data2 = list(get_big_input(input_size))  \n",
    "result = []\n",
    "def quasilinear_fn():\n",
    "    for value in data1: # O(n)\n",
    "        result.append(binary_search(data2, value)) # O(log n)\n",
    "        \n",
    "%timeit quasilinear_fn()\n"
   ]
  },
  {
   "cell_type": "markdown",
   "metadata": {},
   "source": [
    "Another, more complex example, can be found in the Mergesort algorithm. Mergesort is an efficient, general-purpose, comparison-based sorting algorithm which has quasilinear time complexity, let’s see an example:\n",
    "![Merge sort](https://upload.wikimedia.org/wikipedia/commons/e/e6/Merge_sort_algorithm_diagram.svg)"
   ]
  },
  {
   "cell_type": "code",
   "execution_count": 137,
   "metadata": {},
   "outputs": [
    {
     "name": "stdout",
     "output_type": "stream",
     "text": [
      "27.2 µs ± 1.32 µs per loop (mean ± std. dev. of 7 runs, 10000 loops each)\n"
     ]
    }
   ],
   "source": [
    "import random\n",
    "\n",
    "# Merges two subarrays of arr[]. \n",
    "# First subarray is arr[l..m] \n",
    "# Second subarray is arr[m+1..r] \n",
    "def merge(arr, l, m, r): \n",
    "    n1 = m - l + 1\n",
    "    n2 = r- m \n",
    "  \n",
    "    # create temp arrays \n",
    "    L = [0] * (n1) \n",
    "    R = [0] * (n2) \n",
    "  \n",
    "    # Copy data to temp arrays L[] and R[] \n",
    "    for i in range(0 , n1): \n",
    "        L[i] = arr[l + i] \n",
    "  \n",
    "    for j in range(0 , n2): \n",
    "        R[j] = arr[m + 1 + j] \n",
    "  \n",
    "    # Merge the temp arrays back into arr[l..r] \n",
    "    i = 0     # Initial index of first subarray \n",
    "    j = 0     # Initial index of second subarray \n",
    "    k = l     # Initial index of merged subarray \n",
    "  \n",
    "    while i < n1 and j < n2 : \n",
    "        if L[i] <= R[j]: \n",
    "            arr[k] = L[i] \n",
    "            i += 1\n",
    "        else: \n",
    "            arr[k] = R[j] \n",
    "            j += 1\n",
    "        k += 1\n",
    "  \n",
    "    # Copy the remaining elements of L[], if there \n",
    "    # are any \n",
    "    while i < n1: \n",
    "        arr[k] = L[i] \n",
    "        i += 1\n",
    "        k += 1\n",
    "  \n",
    "    # Copy the remaining elements of R[], if there \n",
    "    # are any \n",
    "    while j < n2: \n",
    "        arr[k] = R[j] \n",
    "        j += 1\n",
    "        k += 1\n",
    "        \n",
    "# l is for left index and r is right index of the \n",
    "# sub-array of arr to be sorted \n",
    "def mergeSort(arr,l,r): \n",
    "    if l < r: \n",
    "        # Same as (l+r)/2, but avoids overflow for \n",
    "        # large l and h \n",
    "        m = int((l+(r-1))/2)\n",
    "\n",
    "        # Sort first and second halves \n",
    "        mergeSort(arr, l, m) \n",
    "        mergeSort(arr, m+1, r) \n",
    "        merge(arr, l, m, r)\n",
    "        \n",
    "def merge_sort(data):\n",
    "    mergeSort(data, 0, input_size-1)\n",
    "\n",
    "data = list(get_big_input(input_size))\n",
    "random.shuffle(data)\n",
    "#print(\"input data \", data)\n",
    "%timeit merge_sort(data)\n",
    "#print(\"sorted data \",data)"
   ]
  },
  {
   "cell_type": "markdown",
   "metadata": {},
   "source": [
    "### Quadratic Time — O(n²)\n",
    "An algorithm is said to have a quadratic time complexity when it needs to perform a linear time operation for each value in the input data.\n",
    "\n",
    "Bubble sort is a great example of quadratic time complexity since for each value it needs to compare to all other values in the list, let’s see an example:"
   ]
  },
  {
   "cell_type": "code",
   "execution_count": 146,
   "metadata": {},
   "outputs": [
    {
     "name": "stdout",
     "output_type": "stream",
     "text": [
      "input data  [3, 1, 7, 4, 5, 0, 8, 6, 9, 2]\n",
      "1.18 µs ± 15.9 ns per loop (mean ± std. dev. of 7 runs, 1000000 loops each)\n",
      "sorted data  [0, 1, 2, 3, 4, 5, 6, 7, 8, 9]\n"
     ]
    }
   ],
   "source": [
    "# simple example \n",
    "'''\n",
    "for x in data:\n",
    "    for y in data:\n",
    "        print(x, y)\n",
    "'''\n",
    "def bubble_sort(data):\n",
    "    swapped = True\n",
    "    while swapped:\n",
    "        swapped = False\n",
    "        for i in range(len(data)-1):\n",
    "            if data[i] > data[i+1]:\n",
    "                data[i], data[i+1] = data[i+1], data[i]\n",
    "                swapped = True\n",
    "data = list(get_big_input(input_size))\n",
    "random.shuffle(data)\n",
    "print(\"input data \", data)\n",
    "%timeit bubble_sort(data)\n",
    "print(\"sorted data \",data)"
   ]
  },
  {
   "cell_type": "markdown",
   "metadata": {},
   "source": [
    "### Exponential Time — O(2^n)\n",
    "An algorithm is said to have an exponential time complexity when the growth doubles with each addition to the input data set. This kind of time complexity is usually seen in brute-force algorithms.\n",
    "recursive calculation of Fibonacci numbers example"
   ]
  },
  {
   "cell_type": "code",
   "execution_count": 145,
   "metadata": {},
   "outputs": [
    {
     "name": "stdout",
     "output_type": "stream",
     "text": [
      "21.8 µs ± 670 ns per loop (mean ± std. dev. of 7 runs, 10000 loops each)\n",
      "35.7 µs ± 921 ns per loop (mean ± std. dev. of 7 runs, 10000 loops each)\n",
      "56.5 µs ± 1.11 µs per loop (mean ± std. dev. of 7 runs, 10000 loops each)\n"
     ]
    }
   ],
   "source": [
    "def fibonacci(n):\n",
    "    if n <= 1:\n",
    "        return n\n",
    "    return fibonacci(n-1) + fibonacci(n-2)\n",
    "\n",
    "%timeit fibonacci(random.randint(10,10))\n",
    "%timeit fibonacci(random.randint(11,11))\n",
    "%timeit fibonacci(random.randint(12,12))"
   ]
  },
  {
   "cell_type": "markdown",
   "metadata": {},
   "source": [
    "As you may have noticed, the time complexity of recursive functions is a little harder to define since it depends on how many times the function is called and the time complexity of a single function call.\n",
    "It makes more sense when we look at the recursion tree. The following recursion tree was generated by the Fibonacci algorithm using n = 4:\n",
    "![Fibonaci](https://miro.medium.com/max/750/1*7p5XIlOv2uoxd_LFvPJ8qw.png)\n",
    "Note that it will call itself until it reaches the leaves. When reaching the leaves it returns the value itself.\n",
    "Now, look how the recursion tree grows just increasing the n to 6:\n",
    "![Fibonaci](https://miro.medium.com/max/750/1*cYlZp9gnBPKKiKpJ8r5qGQ.png)\n",
    "\n",
    "[create your recursion tree](https://visualgo.net/bn/recursion)<br/>\n",
    "[detailed explaination](https://stackoverflow.com/questions/360748/computational-complexity-of-fibonacci-sequence/360773#360773)"
   ]
  },
  {
   "cell_type": "markdown",
   "metadata": {},
   "source": [
    "### Factorial — O(n!)\n",
    "An algorithm is said to have a factorial time complexity when it grows in a factorial way based on the size of the input data\n",
    "2! = 2 x 1 = 2 <br/>\n",
    "3! = 3 x 2 x 1 = 6 <br/>\n",
    "4! = 4 x 3 x 2 x 1 = 24 <br/>\n",
    "5! = 5 x 4 x 3 x 2 x 1 = 120 <br/>\n",
    "6! = 6 x 5 x 4 x 3 x 2 x 1 = 720 <br/>\n",
    "7! = 7 x 6 x 5 x 4 x 3 x 2 x 1 = 5.040 <br/>\n",
    "8! = 8 x 7 x 6 x 5 x 4 x 3 x 2 x 1 = 40.320 <br/>\n",
    "\n",
    "As you may see it grows very fast, even for a small size input.\n",
    "A great example of an algorithm which has a factorial time complexity is the [Heap’s algorithm](https://en.wikipedia.org/wiki/Heap%27s_algorithm), which is used for generating all possible permutations of n objects.\n",
    "Let’s take a look at the example"
   ]
  },
  {
   "cell_type": "code",
   "execution_count": 150,
   "metadata": {},
   "outputs": [
    {
     "name": "stdout",
     "output_type": "stream",
     "text": [
      "[0, 1, 2]\n",
      "[1, 0, 2]\n",
      "[2, 0, 1]\n",
      "[0, 2, 1]\n",
      "[1, 2, 0]\n",
      "[2, 1, 0]\n"
     ]
    }
   ],
   "source": [
    "def heap_permutation(data, n):\n",
    "    if n == 1:\n",
    "        print(data)\n",
    "        return\n",
    "    for i in range(n):\n",
    "        heap_permutation(data, n - 1)\n",
    "        if n % 2 == 0:\n",
    "            data[i], data[n-1] = data[n-1], data[i]\n",
    "        else:\n",
    "            data[0], data[n-1] = data[n-1], data[0]\n",
    "data = list(get_big_input(3))\n",
    "heap_permutation(data, len(data))"
   ]
  },
  {
   "cell_type": "markdown",
   "metadata": {},
   "source": [
    "Note that it will grow in a factorial way, based on the size of the input data, so we can say the algorithm has factorial time complexity O(n!).\n",
    "Another great example is the [Travelling Salesman Problem](https://en.wikipedia.org/wiki/Travelling_salesman_problem)."
   ]
  },
  {
   "cell_type": "markdown",
   "metadata": {},
   "source": [
    "### Thank you [@Kelvin Salton do Prado](https://towardsdatascience.com/@kelvin_sp) for such a wonderful compilation of Algorithmic Complexity arcticle"
   ]
  }
 ],
 "metadata": {
  "kernelspec": {
   "display_name": "Python 3",
   "language": "python",
   "name": "python3"
  },
  "language_info": {
   "codemirror_mode": {
    "name": "ipython",
    "version": 3
   },
   "file_extension": ".py",
   "mimetype": "text/x-python",
   "name": "python",
   "nbconvert_exporter": "python",
   "pygments_lexer": "ipython3",
   "version": "3.5.4"
  }
 },
 "nbformat": 4,
 "nbformat_minor": 2
}
